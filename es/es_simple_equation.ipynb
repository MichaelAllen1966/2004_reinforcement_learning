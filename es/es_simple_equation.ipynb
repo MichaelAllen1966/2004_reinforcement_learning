{
 "cells": [
  {
   "cell_type": "code",
   "execution_count": null,
   "metadata": {},
   "outputs": [],
   "source": []
  },
  {
   "cell_type": "code",
   "execution_count": 1,
   "metadata": {},
   "outputs": [
    {
     "data": {
      "image/png": "[encoded data removed]",
      "text/plain": [
       "<Figure size 432x288 with 1 Axes>"
      ]
     },
     "metadata": {
      "needs_background": "light"
     },
     "output_type": "display_data"
    },
    {
     "name": "stdout",
     "output_type": "stream",
     "text": [
      "Final params: [-0.007, 4.005, -1.993]\n"
     ]
    }
   ],
   "source": [
    "import numpy as np\n",
    "import matplotlib.pyplot as plt\n",
    "\n",
    "def evolution_strategy(\n",
    "    f,\n",
    "    population_size,\n",
    "    sigma,\n",
    "    lr,\n",
    "    initial_params,\n",
    "    num_iters):\n",
    "\n",
    "    # assume initial params is a 1-D array\n",
    "    num_params = len(initial_params)\n",
    "    reward_per_iteration = np.zeros(num_iters)\n",
    "    # Initalise parameters\n",
    "    params = initial_params\n",
    "    # Loop through num_iters\n",
    "    for t in range(num_iters):\n",
    "      # N = noise  \n",
    "        N = np.random.randn(population_size, num_params)\n",
    "        # R strores the reward\n",
    "        R = np.zeros(population_size)\n",
    "        # loop through each \"offspring\" and get reward\n",
    "        for j in range(population_size):\n",
    "        # Add noise to 'parent' to get offspring\n",
    "            params_try = params + sigma*N[j]\n",
    "            # Get reward for a single offspring \n",
    "            # 'f' is function to optimise paramaters\n",
    "            R[j] = f(params_try)\n",
    "        # m = mean reward for all offspring\n",
    "        m = R.mean()\n",
    "        # A = standardised reward for each offspring\n",
    "        A = (R - m) / R.std()\n",
    "        # Store reward progress\n",
    "        reward_per_iteration[t] = m\n",
    "        # Update parameters\n",
    "        update_rate = lr/sigma\n",
    "        for i in range(len(params)):\n",
    "            adjustment = N[:, i] * A\n",
    "            mean_adjustment = np.mean(adjustment)\n",
    "            params[i] = params[i] + update_rate * mean_adjustment     \n",
    "    \n",
    "    return params, reward_per_iteration\n",
    "\n",
    "\n",
    "def reward_function(params):\n",
    "    # Aim to optimise parameters in function (max reward = 0)\n",
    "\n",
    "    x0 = params[0]\n",
    "    x1 = params[1]\n",
    "    x2 = params[2]\n",
    "    \n",
    "    # Oprimal parameters: x0 = 0, x1 = 4,  x2 = -2\n",
    "    reward = -(x0**2 + 0.1*(x1 - 4)**2 + 0.5*(x2 + 2)**2)\n",
    "    \n",
    "    return reward\n",
    "\n",
    "\n",
    "# Call evolution strategy\n",
    "best_params, rewards = evolution_strategy(\n",
    "  f=reward_function,\n",
    "  population_size=50,\n",
    "  sigma=0.1,\n",
    "  lr=3e-3,\n",
    "  initial_params=np.random.randn(3),\n",
    "  num_iters=500)\n",
    "\n",
    "# plot the rewards per iteration\n",
    "plt.plot(rewards)\n",
    "plt.show()\n",
    "\n",
    "# final params\n",
    "best_params = [np.round(param, 3) for param in best_params]\n",
    "print(\"Final params:\", best_params)"
   ]
  }
 ],
 "metadata": {
  "kernelspec": {
   "display_name": "Python 3",
   "language": "python",
   "name": "python3"
  },
  "language_info": {
   "codemirror_mode": {
    "name": "ipython",
    "version": 3
   },
   "file_extension": ".py",
   "mimetype": "text/x-python",
   "name": "python",
   "nbconvert_exporter": "python",
   "pygments_lexer": "ipython3",
   "version": "3.7.6"
  }
 },
 "nbformat": 4,
 "nbformat_minor": 4
}
