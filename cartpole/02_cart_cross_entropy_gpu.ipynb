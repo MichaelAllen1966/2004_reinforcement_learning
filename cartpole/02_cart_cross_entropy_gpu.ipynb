{
 "cells": [
  {
   "cell_type": "markdown",
   "metadata": {},
   "source": [
    "# Cartpole cross-entropy\n",
    "\n",
    "Policy-based learning. Basic method:\n",
    "\n",
    "* Play n episodes using current model and environment\n",
    "* Calculate total reward for each episode\n",
    "* Keep best episodes (e.g. top 50%)\n",
    "* Train on remaining episodes using observations and actions taken\n",
    "* Repeat"
   ]
  },
  {
   "cell_type": "markdown",
   "metadata": {},
   "source": [
    "## Import modules and set up variables"
   ]
  },
  {
   "cell_type": "code",
   "execution_count": 1,
   "metadata": {},
   "outputs": [],
   "source": [
    "import gym\n",
    "import matplotlib.pyplot as plt\n",
    "import numpy as np\n",
    "import torch\n",
    "import torch.nn as nn\n",
    "import torch.optim as optim"
   ]
  },
  {
   "cell_type": "code",
   "execution_count": 2,
   "metadata": {},
   "outputs": [],
   "source": [
    "DISPLAY_GAME = False\n",
    "LEARNING_RATE = 0.003"
   ]
  },
  {
   "cell_type": "markdown",
   "metadata": {},
   "source": [
    "## Check for GPU (cuda)"
   ]
  },
  {
   "cell_type": "code",
   "execution_count": 3,
   "metadata": {},
   "outputs": [
    {
     "name": "stdout",
     "output_type": "stream",
     "text": [
      "cuda\n"
     ]
    }
   ],
   "source": [
    "device = torch.device(\"cuda\" if torch.cuda.is_available() else \"cpu\")\n",
    "print (device)"
   ]
  },
  {
   "cell_type": "markdown",
   "metadata": {},
   "source": [
    "## The cross-entropy neural net"
   ]
  },
  {
   "cell_type": "code",
   "execution_count": 4,
   "metadata": {},
   "outputs": [],
   "source": [
    "class Net(nn.Module):\n",
    "    \"\"\"\n",
    "    Pytorch neural net using the flexible pytorch nn.Modlule class.\n",
    "    Note: the neural net output is linear. To convert these to probabilities for\n",
    "    each action (the sam to 1.0) a SoftMax activation is required, but this is\n",
    "    applied outside of the net itslef, which improves speed and stability of \n",
    "    training.\n",
    "    \"\"\"\n",
    "    \n",
    "    def __init__(self, observation_space, action_space):\n",
    "        \"\"\"Define layers of sequential net\"\"\"\n",
    "        super(Net, self).__init__()\n",
    "        self.net = nn.Sequential(\n",
    "            nn.Linear(observation_space, 48),\n",
    "            nn.ReLU(),\n",
    "            nn.Linear(48, 24),\n",
    "            nn.ReLU(),\n",
    "            nn.Linear(24, action_space),\n",
    "    )\n",
    "\n",
    "    def forward(self, x):\n",
    "        \"\"\"Define forward pass (simple, as using a pre-defined sequential\n",
    "        model)\"\"\"\n",
    "        return self.net(x)"
   ]
  },
  {
   "cell_type": "markdown",
   "metadata": {},
   "source": [
    "## Function to filter best episodes"
   ]
  },
  {
   "cell_type": "code",
   "execution_count": 5,
   "metadata": {},
   "outputs": [],
   "source": [
    "def filter_episodes(results, percentile_cutoff = 70):\n",
    "    \"\"\"Get best episodes\"\"\"\n",
    "    \n",
    "    # Get episode rewards & define cuttoff\n",
    "    episode_rewards = [episode['episode_reward'] for episode in results]\n",
    "    reward_cutoff = np.percentile(episode_rewards, percentile_cutoff)\n",
    "    \n",
    "    # Get best episode observations and actions\n",
    "    obs = [episode['episode_obs'] for episode in results if \n",
    "           episode['episode_reward'] >= reward_cutoff]\n",
    "    \n",
    "    actions = [episode['episode_actions'] for episode in results if \n",
    "               episode['episode_reward'] >= reward_cutoff]\n",
    "    \n",
    "\n",
    "    # Convert list of observation arrays into a numpy array\n",
    "    obs = np.vstack(obs)\n",
    "    \n",
    "    # Flatten actions list and convert to NumPy\n",
    "    actions = [item for sublist in actions for item in sublist]\n",
    "    actions = np.array(actions)    \n",
    " \n",
    "    return obs, actions"
   ]
  },
  {
   "cell_type": "markdown",
   "metadata": {},
   "source": [
    "## Function to play an episode"
   ]
  },
  {
   "cell_type": "code",
   "execution_count": 6,
   "metadata": {},
   "outputs": [],
   "source": [
    "def play_episode(env, model, observation_space):\n",
    "    \"\"\"Play an episode\"\"\"\n",
    "    \n",
    "    # Define softmax layer\n",
    "    sm = nn.Softmax(dim=1)  \n",
    "    \n",
    "    # Reset trackers and environment\n",
    "    episode_reward = 0\n",
    "    obs_tracker = []\n",
    "    action_tracker = []\n",
    "\n",
    "    # Reset environment (returns first observation)\n",
    "    obs = env.reset()\n",
    "    \n",
    "    # Loop up to 200 steps\n",
    "    for step in range(200):\n",
    "        \n",
    "        # Show game step\n",
    "        if DISPLAY_GAME:\n",
    "            env.render()\n",
    "            \n",
    "        # Track observations\n",
    "        obs = np.float32(obs)\n",
    "        obs_tracker.append(obs)\n",
    "        \n",
    "        # Get action probability (put obs in Tensor first)\n",
    "        obs = torch.FloatTensor([obs]).to(device)\n",
    "        act_probs = model(obs)\n",
    "        act_probs = sm(act_probs)\n",
    "        act_probs = act_probs.cpu().data.numpy()[0]\n",
    "        \n",
    "        # Get and track action\n",
    "        action = np.random.choice(len(act_probs), p=act_probs)\n",
    "        action_tracker.append(action)\n",
    "        \n",
    "        # Take action\n",
    "        obs, reward, done, info = env.step(action)\n",
    "        episode_reward += reward\n",
    "        \n",
    "        # Pole has fallen over if done is True\n",
    "        if done:\n",
    "            break\n",
    "     \n",
    "    # Put results in dictionary\n",
    "    results = {'episode_reward': episode_reward,\n",
    "               'episode_obs': obs_tracker,\n",
    "               'episode_actions': action_tracker}\n",
    "\n",
    "    return results"
   ]
  },
  {
   "cell_type": "markdown",
   "metadata": {},
   "source": [
    "## Function to plot results"
   ]
  },
  {
   "cell_type": "code",
   "execution_count": 7,
   "metadata": {},
   "outputs": [],
   "source": [
    "def plot_results(batch, average, best):\n",
    "    \"\"\"Line plot of average and best rewards over time\"\"\"\n",
    "    \n",
    "    plt.plot(batch, average, label='Average batch reward')\n",
    "    plt.plot(batch, best, label='Best batch reward')\n",
    "    plt.xlabel('Batch')\n",
    "    plt.ylabel('Reward')\n",
    "    plt.legend()\n",
    "    plt.show()"
   ]
  },
  {
   "cell_type": "code",
   "execution_count": 8,
   "metadata": {},
   "outputs": [],
   "source": [
    "def main():\n",
    "    \n",
    "    # Set number of episodes to play before slecting best and updating net\n",
    "    episode_batch_size = 10\n",
    "    \n",
    "    # Set up environment\n",
    "    env = gym.make(\"CartPole-v0\")\n",
    "    \n",
    "    # Get number of observations from environemt(allows the env to change)\n",
    "    obs_size = env.observation_space.shape[0]\n",
    "    \n",
    "    # Get number of actins from environemnt\n",
    "    n_actions = env.action_space.n\n",
    "    \n",
    "    # Set up Neural Net\n",
    "    model = Net(obs_size, n_actions).to(device)\n",
    "    objective = nn.CrossEntropyLoss()\n",
    "    optimizer = optim.Adam(params=model.parameters(), lr=LEARNING_RATE)\n",
    "    \n",
    "    # Play batches of episodes \n",
    "    batch_count = 0\n",
    "    \n",
    "    # Lists to store results\n",
    "    all_results_batch_number = []\n",
    "    all_results_average_reward = []\n",
    "    all_results_maxumum_reward = []\n",
    "    \n",
    "    # Continue until goal performance reached\n",
    "    while True:\n",
    "        \n",
    "        # Play episodes \n",
    "        batch_count += 1\n",
    "        episode_batch_results = []\n",
    "        for episode in range(episode_batch_size):\n",
    "            results = play_episode(env, model, obs_size)\n",
    "            episode_batch_results.append(results)\n",
    "            \n",
    "        # Get average and maximum reward\n",
    "        rewards = [episode['episode_reward'] for episode in \n",
    "                   episode_batch_results]\n",
    "        average_reward = np.mean(rewards)\n",
    "        maximum_reward = np.max(rewards)\n",
    "        \n",
    "        # Store results\n",
    "        all_results_batch_number.append(batch_count)\n",
    "        all_results_average_reward.append(average_reward)\n",
    "        all_results_maxumum_reward.append(maximum_reward)\n",
    "        \n",
    "        print ('\\rBatch {0:3}. Average and best run: {1:3.0f}, {2:3.0f}'.format(\n",
    "            batch_count, average_reward, maximum_reward), end=\"\")\n",
    "        \n",
    "        # Check whether goal reached (and break loop)\n",
    "        if average_reward >= 190:\n",
    "            print ('\\nGoal achieved')\n",
    "            break\n",
    "        \n",
    "        # Get best runs\n",
    "        training_obs, training_actions = filter_episodes(episode_batch_results)  \n",
    "        training_obs = torch.Tensor(training_obs).to(device)\n",
    "        training_actions = torch.Tensor(training_actions).long().to(device)\n",
    "        \n",
    "        # Train model\n",
    "        optimizer.zero_grad()\n",
    "        action_scores = model(training_obs)\n",
    "        loss_v = objective(action_scores, training_actions)\n",
    "        loss_v.backward()\n",
    "        optimizer.step()\n",
    "        \n",
    "            \n",
    "    # Plot results\n",
    "    plot_results(all_results_batch_number, all_results_average_reward, \n",
    "                 all_results_maxumum_reward)"
   ]
  },
  {
   "cell_type": "code",
   "execution_count": 9,
   "metadata": {},
   "outputs": [
    {
     "name": "stdout",
     "output_type": "stream",
     "text": [
      "Batch 129. Average and best run: 192, 200\n",
      "Goal achieved\n"
     ]
    },
    {
     "data": {
      "image/png": "[encoded data removed]",
      "text/plain": [
       "<Figure size 432x288 with 1 Axes>"
      ]
     },
     "metadata": {
      "needs_background": "light"
     },
     "output_type": "display_data"
    }
   ],
   "source": [
    "if __name__ == '__main__':\n",
    "    main()"
   ]
  }
 ],
 "metadata": {
  "kernelspec": {
   "display_name": "Python 3",
   "language": "python",
   "name": "python3"
  },
  "language_info": {
   "codemirror_mode": {
    "name": "ipython",
    "version": 3
   },
   "file_extension": ".py",
   "mimetype": "text/x-python",
   "name": "python",
   "nbconvert_exporter": "python",
   "pygments_lexer": "ipython3",
   "version": "3.7.6"
  }
 },
 "nbformat": 4,
 "nbformat_minor": 4
}
