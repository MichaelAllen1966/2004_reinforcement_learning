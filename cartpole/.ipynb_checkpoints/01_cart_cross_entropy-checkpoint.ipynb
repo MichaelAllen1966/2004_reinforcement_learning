{
 "cells": [
  {
   "cell_type": "markdown",
   "metadata": {},
   "source": [
    "# Reinforcement learning introduction\n",
    "\n",
    "### RL involves:\n",
    "* Trial and error search\n",
    "* Receiving and maximising reward (often delayed)\n",
    "* Linking state -> action -> reward\n",
    "* Must be able to sense something of their environment\n",
    "* Involves uncertainty in sensing and linking action to reward\n",
    "* Learning -> improved choice of actions over time\n",
    "* All models find a way to balance best predicted action vs. exploration\n",
    "\n",
    "### Elements of RL\n",
    "* *Environment*: all observable and unobservable information relevant to us\n",
    "* *Observation*: sensing the environment\n",
    "* *State*: the perceived (or perceivable) environment \n",
    "* *Agent*: senses environment, decides on action, receives and monitors rewards\n",
    "* *Action*: may be discrete (e.g. turn left) or continuous (accelerator pedal)\n",
    "* *Policy* (how to link state to action; often based on probabilities)\n",
    "* *Reward signal*: aim is to accumulate maximum reward over time\n",
    "* *Value function* of a state: prediction of likely/possible long-term reward\n",
    "* *Q*: prediction of likely/possible long-term reward of an *action*\n",
    "* *Model* (optional): a simulation of the environment\n",
    "\n",
    "### Types of model\n",
    "\n",
    "* *Model-based*: have model of environment (e.g. a board game)\n",
    "* *Model-free*: used when environment not fully known\n",
    "* *Policy-based*: identify best policy directly\n",
    "* *Value-based*: estimate value of a decision\n",
    "* *Off-policy*: can learn from historic data from other agent\n",
    "* *On-policy*: requires active learning from current decisions"
   ]
  },
  {
   "cell_type": "markdown",
   "metadata": {},
   "source": [
    "## Requirements\n",
    "\n",
    "AI-gym: `pip install gym gym[atari]`\n",
    "\n",
    "PyTorch: see https://pytorch.org/get-started/locally/"
   ]
  },
  {
   "cell_type": "markdown",
   "metadata": {},
   "source": [
    "# AI Gym\n",
    "\n",
    "Gym (from OpenAI: https://openai.com/) is a toolkit for developing and comparing reinforcement learning algorithms. It supports teaching agents everything from walking to playing games like Pong or Pinball.\n",
    "\n",
    "https://gym.openai.com/\n",
    "\n",
    "AI gym has a standard interface. An action is transfered with step, and this returns:\n",
    "\n",
    "* *obs*: New observation\n",
    "* *reward*: reward from action\n",
    "* *done*: 'True' if game over\n",
    "* *info*: A dictionary of extra information (game dependent)\n",
    "\n",
    "The syntax is:\n",
    "\n",
    "`obs, reward, done, info = env.step(action)`"
   ]
  },
  {
   "cell_type": "markdown",
   "metadata": {},
   "source": [
    "## CartPole\n",
    "\n",
    "CartPole is one of the simplest environments. A pole is attached by a joint to a cart, which moves along a track. The pendulum starts upright, and the goal is to prevent it from falling over by increasing and reducing the cart's velocity (left or right).\n",
    "\n",
    "https://gym.openai.com/envs/CartPole-v1/\n",
    "https://github.com/openai/gym/blob/master/gym/envs/classic_control/cartpole.py\n",
    "\n",
    "A simple video here:\n",
    "\n",
    "https://gym.openai.com/videos/2019-10-21--mqt8Qj1mwo/CartPole-v1/original.mp4"
   ]
  },
  {
   "cell_type": "code",
   "execution_count": 1,
   "metadata": {},
   "outputs": [],
   "source": [
    "\"\"\"\n",
    "Description:\n",
    "    A pole is attached by an un-actuated joint to a cart, which moves along a\n",
    "    frictionless track. The pendulum starts upright, and the goal is to prevent\n",
    "    it from falling over by increasing and reducing the cart's velocity.\n",
    "Source:\n",
    "    This environment corresponds to the version of the cart-pole problem\n",
    "    described by Barto, Sutton, and Anderson\n",
    "    \n",
    "Observation: \n",
    "    Type: Box(4)\n",
    "    Num\tObservation                 Min         Max\n",
    "    0\tCart Position             -4.8            4.8\n",
    "    1\tCart Velocity             -Inf            Inf\n",
    "    2\tPole Angle                 -24 deg        24 deg\n",
    "    3\tPole Velocity At Tip      -Inf            Inf\n",
    "\n",
    "Actions:\n",
    "    Type: Discrete(2)\n",
    "    Num\tAction\n",
    "    0\tPush cart to the left\n",
    "    1\tPush cart to the right\n",
    "\n",
    "Note: The amount the velocity that is reduced or increased is not fixed; \n",
    "it depends on the angle the pole is pointing. This is because the center of \n",
    "gravity of the pole increases the amount of energy needed to move the cart \n",
    "underneath it.\n",
    "\n",
    "Reward:\n",
    "    Reward is 1 for every step taken, including the termination step\n",
    "\n",
    "Starting State:\n",
    "    All observations are assigned a uniform random value in [-0.05..0.05]\n",
    "Episode Termination:\n",
    "    Pole Angle is more than 12 degrees\n",
    "    Cart Position is more than 2.4 (center of the cart reaches the edge of the\n",
    "      display)\n",
    "    Episode length is greater than 200\n",
    "    Solved Requirements\n",
    "    Considered solved when the average reward is greater than or equal to 195.0\n",
    "      over 100 consecutive trials.\n",
    "\"\"\";"
   ]
  },
  {
   "cell_type": "markdown",
   "metadata": {},
   "source": [
    "An example of setting up CartPole, getting first observation, and taking an action."
   ]
  },
  {
   "cell_type": "code",
   "execution_count": 2,
   "metadata": {},
   "outputs": [
    {
     "name": "stdout",
     "output_type": "stream",
     "text": [
      "Starting obs: [ 0.02330062 -0.00147281 -0.01938329  0.00877194]\n",
      "\n",
      "Take action (push cart to right):\n",
      "\n",
      "New observation: [ 0.02327116  0.19392169 -0.01920785 -0.28996307]\n",
      "Reward: 1.0\n",
      "Done: False\n",
      "Extra info: {}\n"
     ]
    }
   ],
   "source": [
    "import gym\n",
    "# Set up environment and import first observation\n",
    "env = gym.make(\"CartPole-v1\")\n",
    "obs = env.reset()\n",
    "print ('Starting obs:', obs)\n",
    "\n",
    "# Take action 1 (push cart to right and get new observation)\n",
    "print ('\\nTake action (push cart to right):')\n",
    "action = 1\n",
    "obs, reward, done, info = env.step(action)\n",
    "print('\\nNew observation:', obs)\n",
    "print('Reward:', reward)\n",
    "print('Done:', done)\n",
    "print('Extra info:', info)"
   ]
  },
  {
   "cell_type": "code",
   "execution_count": 3,
   "metadata": {},
   "outputs": [
    {
     "data": {
      "text/plain": [
       "True"
      ]
     },
     "execution_count": 3,
     "metadata": {},
     "output_type": "execute_result"
    }
   ],
   "source": [
    "env.render()"
   ]
  },
  {
   "cell_type": "markdown",
   "metadata": {},
   "source": [
    "# Reinforcement Learning: Cartpole cross-entropy\n",
    "\n",
    "*Cross entropy* in neural nets provides probabilities across any number of classifications.\n",
    "\n",
    "*Cross entropy* RL is a model-free policy-based (on-policy) method. It is based on learning from previous best runs. For each observation the nn provides a probability of action to be taken. Use of sampling and probability allows exploration.\n",
    "\n",
    "Method steps:\n",
    "\n",
    "* Play n episodes using current model and environment\n",
    "* Calculate total reward for each episode\n",
    "* Keep best episodes (e.g. top 30%-50%)\n",
    "* Train on best episodes using observations and actions taken\n",
    "* Repeat"
   ]
  },
  {
   "cell_type": "markdown",
   "metadata": {},
   "source": [
    "### Import modules"
   ]
  },
  {
   "cell_type": "code",
   "execution_count": 4,
   "metadata": {},
   "outputs": [],
   "source": [
    "import gym\n",
    "import matplotlib.pyplot as plt\n",
    "import numpy as np\n",
    "import torch\n",
    "import torch.nn as nn\n",
    "import torch.optim as optim"
   ]
  },
  {
   "cell_type": "markdown",
   "metadata": {},
   "source": [
    "### set up variables"
   ]
  },
  {
   "cell_type": "code",
   "execution_count": 5,
   "metadata": {},
   "outputs": [],
   "source": [
    "DISPLAY_GAME = False\n",
    "LEARNING_RATE = 0.003"
   ]
  },
  {
   "cell_type": "markdown",
   "metadata": {},
   "source": [
    "### The cross-entropy neural net"
   ]
  },
  {
   "cell_type": "code",
   "execution_count": 6,
   "metadata": {},
   "outputs": [],
   "source": [
    "class Net(nn.Module):\n",
    "    \"\"\"\n",
    "    Pytorch neural net using the flexible pytorch nn.Modlule class.\n",
    "    Note: the neural net output is linear. To convert these to probabilities for\n",
    "    each action (sum to 1.0) a SoftMax activation on the final output is \n",
    "    required, but this is applied outside of the net itself, which improves\n",
    "    speed and stability of training.\n",
    "    \n",
    "    Layers in model:\n",
    "    * Input layer (implied, takes the number of observations)\n",
    "    * 48 node layer\n",
    "    * ReLU activation\n",
    "    * 24 node layer\n",
    "    * ReLU activation\n",
    "    * Output layer (size = number of possible actions)\n",
    "    \n",
    "    (A SoftMax layer will be added later)\n",
    "    \"\"\"\n",
    "    \n",
    "    def __init__(self, observation_space, action_space):\n",
    "        \"\"\"Define layers of sequential net\"\"\"\n",
    "        super(Net, self).__init__()\n",
    "        self.net = nn.Sequential(\n",
    "            nn.Linear(observation_space, 48),\n",
    "            nn.ReLU(),\n",
    "            nn.Linear(48, 24),\n",
    "            nn.ReLU(),\n",
    "            nn.Linear(24, action_space)\n",
    "    )\n",
    "\n",
    "    def forward(self, x):\n",
    "        \"\"\"Define forward pass (simple, as using a pre-defined sequential\n",
    "        model)\"\"\"\n",
    "        return self.net(x)"
   ]
  },
  {
   "cell_type": "markdown",
   "metadata": {},
   "source": [
    "### Function to play a single episode"
   ]
  },
  {
   "cell_type": "code",
   "execution_count": 7,
   "metadata": {},
   "outputs": [],
   "source": [
    "def play_episode(env, model, observation_space):\n",
    "    \"\"\"Play an episode\"\"\"\n",
    "    \n",
    "    # Define softmax layer\n",
    "    sm = nn.Softmax(dim=1) \n",
    "    \n",
    "    # Reset trackers and environment\n",
    "    episode_reward = 0\n",
    "    obs_tracker = []\n",
    "    action_tracker = []\n",
    "    \n",
    "    # Reset environment (returns first observation)\n",
    "    obs = env.reset()\n",
    "    \n",
    "    # Loop up to 200 steps\n",
    "    for step in range(200):\n",
    "        \n",
    "        # Show game step (will slow game, but useful to watch at least once)\n",
    "        if DISPLAY_GAME:\n",
    "            env.render()\n",
    "            \n",
    "        # Track observations\n",
    "        obs = np.float32(obs)\n",
    "        obs_tracker.append(obs)\n",
    "        \n",
    "        # Get action probability (put obs in Tensor first)\n",
    "        obs = torch.FloatTensor([obs])\n",
    "        act_probs = model(obs)\n",
    "        act_probs = sm(act_probs)\n",
    "        act_probs = act_probs.data.numpy()[0]\n",
    "        \n",
    "        # Get and track action: action sampled based on probability distribution\n",
    "        action = np.random.choice(len(act_probs), p=act_probs)\n",
    "        action_tracker.append(action)\n",
    "        \n",
    "        # Take action\n",
    "        obs, reward, done, info = env.step(action)\n",
    "        episode_reward += reward\n",
    "        \n",
    "        # Pole has fallen over if done is True\n",
    "        if done:\n",
    "            break\n",
    "     \n",
    "    # Put results in dictionary\n",
    "    results = {'episode_reward': episode_reward,\n",
    "               'episode_obs': obs_tracker,\n",
    "               'episode_actions': action_tracker}\n",
    "\n",
    "    return results"
   ]
  },
  {
   "cell_type": "markdown",
   "metadata": {},
   "source": [
    "### Function to filter best episodes"
   ]
  },
  {
   "cell_type": "code",
   "execution_count": 8,
   "metadata": {},
   "outputs": [],
   "source": [
    "def filter_episodes(results, percentile_cutoff = 70):\n",
    "    \"\"\"Get best episodes\"\"\"\n",
    "    \n",
    "    # Get episode rewards & define cuttoff\n",
    "    episode_rewards = [episode['episode_reward'] for episode in results]\n",
    "    reward_cutoff = np.percentile(episode_rewards, percentile_cutoff)\n",
    "    \n",
    "    # Get best episode observations and actions\n",
    "    obs = [episode['episode_obs'] for episode in results if \n",
    "           episode['episode_reward'] >= reward_cutoff]\n",
    "    \n",
    "    actions = [episode['episode_actions'] for episode in results if \n",
    "               episode['episode_reward'] >= reward_cutoff]\n",
    "    \n",
    "\n",
    "    # Convert list of observation arrays into a numpy array\n",
    "    obs = np.vstack(obs)\n",
    "    \n",
    "    # Flatten actions list and convert to NumPy\n",
    "    actions = [item for sublist in actions for item in sublist]\n",
    "    actions = np.array(actions)    \n",
    " \n",
    "    return obs, actions"
   ]
  },
  {
   "cell_type": "markdown",
   "metadata": {},
   "source": [
    "### Function to plot results"
   ]
  },
  {
   "cell_type": "code",
   "execution_count": 1,
   "metadata": {},
   "outputs": [],
   "source": [
    "def plot_results(batch, average, best):\n",
    "    \"\"\"Line plot of average and best rewards over time\"\"\"\n",
    "    \n",
    "    plt.plot(batch, average, label='Average batch reward')\n",
    "    plt.plot(batch, best, label='Best batch reward')\n",
    "    plt.xlabel('Batch')\n",
    "    plt.ylabel('Reward')\n",
    "    plt.legend()\n",
    "    plt.show()"
   ]
  },
  {
   "cell_type": "markdown",
   "metadata": {},
   "source": [
    "### Main program\n",
    "\n",
    "The main program:\n",
    "\n",
    "* Sets up model\n",
    "* Continues a loop of playing batches and episodes and training net until goal achieved.\n",
    "    * Play batch of episodes\n",
    "    * Select best episodes\n",
    "    * Train neural net"
   ]
  },
  {
   "cell_type": "code",
   "execution_count": 12,
   "metadata": {},
   "outputs": [],
   "source": [
    "def main():\n",
    "    \n",
    "    ############################## Set up model ################################\n",
    "    \n",
    "    # Set target (average batch reward, max for CartPole is 200)\n",
    "    target = 200\n",
    "    \n",
    "    # Set number of episodes to play before slecting best and updating net\n",
    "    episode_batch_size = 10\n",
    "    \n",
    "    # Set up environment\n",
    "    env = gym.make(\"CartPole-v1\")\n",
    "    \n",
    "    # Get number of observations from environemt(allows the env to change)\n",
    "    obs_size = env.observation_space.shape[0]\n",
    "    \n",
    "    # Get number of actins from environemnt\n",
    "    n_actions = env.action_space.n\n",
    "    \n",
    "    # Set up Neural Net\n",
    "    model = Net(obs_size, n_actions)\n",
    "    objective = nn.CrossEntropyLoss()\n",
    "    optimizer = optim.Adam(params=model.parameters(), lr=LEARNING_RATE)\n",
    "    \n",
    "    # Play batches of episodes \n",
    "    batch_count = 0\n",
    "    \n",
    "    # Lists to store results\n",
    "    all_results_batch_number = []\n",
    "    all_results_average_reward = []\n",
    "    all_results_maxumum_reward = []\n",
    "    \n",
    "    # Start playing loop and continue until goal performance reached\n",
    "    while True:\n",
    "        \n",
    "        ############## Play batch of epsiodes and select best ##################\n",
    "        \n",
    "        # Play episodes \n",
    "        batch_count += 1\n",
    "        batch_results = []\n",
    "        for episode in range(episode_batch_size):\n",
    "            results = play_episode(env, model, obs_size)\n",
    "            batch_results.append(results)\n",
    "            \n",
    "        # Get average and maximum reward\n",
    "        rewards = [episode['episode_reward'] for episode in batch_results]\n",
    "        average_reward = np.mean(rewards)\n",
    "        maximum_reward = np.max(rewards)\n",
    "        \n",
    "        # Store results\n",
    "        all_results_batch_number.append(batch_count)\n",
    "        all_results_average_reward.append(average_reward)\n",
    "        all_results_maxumum_reward.append(maximum_reward)\n",
    "        \n",
    "        print (f'\\rBatch {batch_count:3}. Average and best run: ' \\\n",
    "               f'{average_reward:3.1f}, {maximum_reward:3.1f}', end=\"\")\n",
    "        \n",
    "        # Check whether goal reached (and break loop)\n",
    "        if average_reward >= target:\n",
    "            print ('\\nGoal achieved')\n",
    "            break\n",
    "        \n",
    "        # Get best runs\n",
    "        training_obs, training_actions = filter_episodes(batch_results)  \n",
    "        training_obs = torch.Tensor(training_obs)\n",
    "        training_actions = torch.Tensor(training_actions).long()\n",
    "        \n",
    "        ########################### Train model ################################\n",
    "        \n",
    "        # Reset model gradients\n",
    "        optimizer.zero_grad()\n",
    "        # Predict actions\n",
    "        action_scores = model(training_obs)\n",
    "        # Calculate loss between predicted and actual actions\n",
    "        loss_v = objective(action_scores, training_actions)\n",
    "        # Back propgate losses\n",
    "        loss_v.backward()\n",
    "        # Update model weights\n",
    "        optimizer.step()\n",
    "        \n",
    "        \n",
    "    # Plot results\n",
    "    plot_results(all_results_batch_number, all_results_average_reward, \n",
    "                 all_results_maxumum_reward)"
   ]
  },
  {
   "cell_type": "code",
   "execution_count": 13,
   "metadata": {},
   "outputs": [
    {
     "name": "stdout",
     "output_type": "stream",
     "text": [
      "Batch  90. Average and best run: 200.0, 200.0\n",
      "Goal achieved\n"
     ]
    },
    {
     "data": {
      "image/png": "[encoded data removed]",
      "text/plain": [
       "<Figure size 432x288 with 1 Axes>"
      ]
     },
     "metadata": {
      "needs_background": "light"
     },
     "output_type": "display_data"
    }
   ],
   "source": [
    "main()"
   ]
  },
  {
   "cell_type": "code",
   "execution_count": null,
   "metadata": {},
   "outputs": [],
   "source": []
  }
 ],
 "metadata": {
  "kernelspec": {
   "display_name": "Python 3",
   "language": "python",
   "name": "python3"
  },
  "language_info": {
   "codemirror_mode": {
    "name": "ipython",
    "version": 3
   },
   "file_extension": ".py",
   "mimetype": "text/x-python",
   "name": "python",
   "nbconvert_exporter": "python",
   "pygments_lexer": "ipython3",
   "version": "3.7.6"
  }
 },
 "nbformat": 4,
 "nbformat_minor": 4
}
